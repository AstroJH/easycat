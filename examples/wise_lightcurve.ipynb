{
 "cells": [
  {
   "cell_type": "code",
   "execution_count": null,
   "id": "a5f9f2e5",
   "metadata": {},
   "outputs": [],
   "source": [
    "import numpy as np\n",
    "import matplotlib.pyplot as plt\n",
    "from matplotlib.gridspec import GridSpec\n",
    "\n",
    "from astropy.io import fits\n",
    "from astropy.table import Table\n",
    "from astropy.coordinates import SkyCoord\n",
    "\n",
    "from easycat.lightcurve.reprocess import ReprocessFactory\n",
    "from easycat.lightcurve.reprocess import WiseReprocessor"
   ]
  },
  {
   "cell_type": "markdown",
   "id": "95d51d5f",
   "metadata": {},
   "source": [
    "## Downloading WISE Lightcurve\n",
    "Todoing... ..."
   ]
  },
  {
   "cell_type": "markdown",
   "id": "198f8630",
   "metadata": {},
   "source": [
    "## Reprocessing WISE Data"
   ]
  },
  {
   "cell_type": "code",
   "execution_count": null,
   "id": "dfc94f40",
   "metadata": {},
   "outputs": [],
   "source": [
    "sdss_pos = SkyCoord(ra=153.38352, dec=26.47322, unit=\"deg\", frame=\"fk5\")\n",
    "\n",
    "with fits.open(\"data/9626-57875-0685.fits\") as hdul:\n",
    "    lcurve = Table(hdul[1].data).to_pandas()\n",
    "\n",
    "\n",
    "print(type(lcurve))\n",
    "print(lcurve.columns)"
   ]
  },
  {
   "cell_type": "code",
   "execution_count": null,
   "id": "9476011b",
   "metadata": {},
   "outputs": [],
   "source": [
    "repro = ReprocessFactory.get(metadata={\n",
    "    \"telescope\": \"WISE\"\n",
    "})\n",
    "\n",
    "lcurve_repro = repro.reprocess(lcurve=lcurve, pos_ref=sdss_pos)"
   ]
  },
  {
   "cell_type": "code",
   "execution_count": null,
   "id": "f7599598",
   "metadata": {},
   "outputs": [],
   "source": [
    "fig, axs = plt.subplots(1, 2, sharey=True, sharex=True, figsize=(6, 3))\n",
    "\n",
    "axs[0].scatter(lcurve.mjd, lcurve.w1mag, c=\"tab:blue\", s=1)\n",
    "axs[0].scatter(lcurve.mjd, lcurve.w2mag, c=\"tab:red\",  s=1)\n",
    "axs[0].yaxis.set_inverted(True)\n",
    "\n",
    "axs[1].scatter(lcurve_repro.mjd, lcurve_repro.w1mag, c=\"tab:blue\", s=1)\n",
    "axs[1].scatter(lcurve_repro.mjd, lcurve_repro.w2mag, c=\"tab:red\",  s=1)\n",
    "axs[1].set_yticks([])\n",
    "\n",
    "fig.tight_layout(w_pad=0)\n",
    "\n",
    "plt.show()"
   ]
  },
  {
   "cell_type": "markdown",
   "id": "a9b34ad8",
   "metadata": {},
   "source": [
    "## Generating Long-term WISE Lightcurve"
   ]
  },
  {
   "cell_type": "markdown",
   "id": "1e7928c9",
   "metadata": {},
   "source": [
    "Then let us generate long-term WISE lightcurve,"
   ]
  },
  {
   "cell_type": "code",
   "execution_count": null,
   "id": "09385e4a",
   "metadata": {},
   "outputs": [],
   "source": [
    "longterm = repro.generate_longterm_lcurve(lcurve_repro, max_interval=50)\n",
    "\n",
    "dpi = 200\n",
    "fs = (800/dpi, 400/dpi)\n",
    "\n",
    "fig = plt.figure(figsize=fs, dpi=dpi)\n",
    "gs = GridSpec(2, 1, figure=fig, wspace=0, hspace=0, height_ratios=(2, 1))\n",
    "\n",
    "ax_mag = fig.add_subplot(gs[0])\n",
    "ax_color = fig.add_subplot(gs[1])\n",
    "ax_color.sharex(ax_mag)\n",
    "ax_mag.set_xticks([])\n",
    "\n",
    "mjd_start = longterm.mjd[0]\n",
    "rmjd = longterm.mjd - mjd_start\n",
    "\n",
    "param_errorbar = {\n",
    "    \"linestyle\": \"none\",\n",
    "    \"capsize\": 2,\n",
    "    \"marker\": \".\",\n",
    "    \"markersize\": 5\n",
    "}\n",
    "\n",
    "w1data = (rmjd, longterm.w1mag,     longterm.w1sigmag)\n",
    "w2data = (rmjd, longterm.w2mag+1, longterm.w2sigmag)\n",
    "ax_mag.invert_yaxis()\n",
    "\n",
    "ax_mag.errorbar(*w1data, color=\"tab:blue\", **param_errorbar)\n",
    "ax_mag.errorbar(*w2data, color=\"tab:red\",  **param_errorbar)\n",
    "\n",
    "color = longterm.w1mag - longterm.w2mag\n",
    "sigcolor = np.sqrt(longterm.w1sigmag**2 + longterm.w2sigmag**2)\n",
    "ax_color.errorbar(rmjd, color, sigcolor, color=\"green\", **param_errorbar)\n",
    "\n",
    "plt.show()"
   ]
  }
 ],
 "metadata": {
  "kernelspec": {
   "display_name": "astro",
   "language": "python",
   "name": "python3"
  },
  "language_info": {
   "codemirror_mode": {
    "name": "ipython",
    "version": 3
   },
   "file_extension": ".py",
   "mimetype": "text/x-python",
   "name": "python",
   "nbconvert_exporter": "python",
   "pygments_lexer": "ipython3",
   "version": "3.13.2"
  }
 },
 "nbformat": 4,
 "nbformat_minor": 5
}
