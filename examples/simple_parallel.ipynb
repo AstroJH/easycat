{
 "cells": [
  {
   "cell_type": "code",
   "execution_count": null,
   "id": "98ff0bdf",
   "metadata": {},
   "outputs": [],
   "source": [
    "import time\n",
    "from pprint import pprint\n",
    "import os\n",
    "import pandas as pd\n",
    "from easycat.parallel import TaskDispatcher\n",
    "\n",
    "catalog = pd.DataFrame(\n",
    "    data={\n",
    "        \"obj_id\": [\"A000\", \"B001\", \"C101\"],\n",
    "        \"raj2000\": [0.047549, 0.09689882, 0.2813572],\n",
    "        \"dej2000\": [14.92935, 19.45895, 0.4404623],\n",
    "        # More columns ...\n",
    "    },\n",
    ")\n",
    "catalog.set_index(keys=\"obj_id\", inplace=True)\n",
    "\n",
    "def simple_task(idx, info:dict) -> tuple:\n",
    "    time.sleep(3)\n",
    "    if idx == \"B001\":\n",
    "        return False, None\n",
    "    return True, None\n"
   ]
  },
  {
   "cell_type": "code",
   "execution_count": null,
   "id": "09d94fa9",
   "metadata": {},
   "outputs": [],
   "source": [
    "config = {\n",
    "    \"catalog\": catalog,\n",
    "    \"task\": simple_task,\n",
    "    \"checkpoint\": None,\n",
    "    \"mode\": \"thread\",\n",
    "    \"n_workers\": 4,\n",
    "}\n",
    "\n",
    "try:\n",
    "    record = TaskDispatcher(**config).dispatch()\n",
    "except Exception as e:\n",
    "    print(f\"\\n程序异常终止: {str(e)}\")"
   ]
  },
  {
   "cell_type": "code",
   "execution_count": null,
   "id": "c154ff31",
   "metadata": {},
   "outputs": [],
   "source": [
    "pprint(record, width=20)"
   ]
  }
 ],
 "metadata": {
  "kernelspec": {
   "display_name": "astro",
   "language": "python",
   "name": "python3"
  },
  "language_info": {
   "codemirror_mode": {
    "name": "ipython",
    "version": 3
   },
   "file_extension": ".py",
   "mimetype": "text/x-python",
   "name": "python",
   "nbconvert_exporter": "python",
   "pygments_lexer": "ipython3",
   "version": "3.13.2"
  }
 },
 "nbformat": 4,
 "nbformat_minor": 5
}
